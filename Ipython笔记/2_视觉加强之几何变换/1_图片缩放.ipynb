{
 "cells": [
  {
   "cell_type": "code",
   "execution_count": 6,
   "metadata": {},
   "outputs": [],
   "source": [
    "import cv2 as cv\n",
    "\n",
    "# 加载图片\n",
    "img = cv.imread('../sources/dog.jpg')\n",
    "\n",
    "# 图片信息\n",
    "imgInfo = img.shape\n",
    "height = imgInfo[0] # 高\n",
    "width = imgInfo[1] # 宽\n",
    "mode = imgInfo[2] # 颜色模式\n",
    "\n",
    "# 对图片可以进行 放大/缩小  等比例/非等比例缩放\n",
    "dstHeight = int(height*0.5)\n",
    "dstWidth = int(width*0.5)\n",
    "\n",
    "# 图片缩放\n",
    "dst = cv.resize(img, (dstHeight, dstWidth))\n",
    "\n",
    "# 显示图片\n",
    "cv.imshow('Image', dst)\n",
    "k = cv.waitKey(0)\n",
    "\n",
    "if k == 27:     # 键盘上Esc键的键值\n",
    "   cv.destroyAllWindows()"
   ]
  }
 ],
 "metadata": {
  "kernelspec": {
   "display_name": "Python 3",
   "language": "python",
   "name": "python3"
  },
  "language_info": {
   "codemirror_mode": {
    "name": "ipython",
    "version": 3
   },
   "file_extension": ".py",
   "mimetype": "text/x-python",
   "name": "python",
   "nbconvert_exporter": "python",
   "pygments_lexer": "ipython3",
   "version": "3.6.8"
  }
 },
 "nbformat": 4,
 "nbformat_minor": 2
}
