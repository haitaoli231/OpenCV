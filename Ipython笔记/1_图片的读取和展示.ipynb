{
 "cells": [
  {
   "cell_type": "markdown",
   "metadata": {},
   "source": [
    "- 1. 引入opencv\n",
    "- 2. API\n",
    "- 3. stop"
   ]
  },
  {
   "cell_type": "code",
   "execution_count": 2,
   "metadata": {},
   "outputs": [],
   "source": [
    "# 引入模块\n",
    "import cv2 as cv\n",
    "# 读取图片\n",
    "img = cv.imread('../sources/dog.jpg', 1) # 参数一: 图片路径  参数二: 0指灰度图片,1指颜色图片\n",
    "# 创建窗口,名称为image\n",
    "cv.namedWindow('Image', cv.WINDOW_AUTOSIZE)\n",
    "# 显示图片\n",
    "cv.imshow('Image', img) # Image是窗体名称\n",
    "\n",
    "cv.waitKey(0)\n",
    "# 销毁所有窗口\n",
    "cv.destroyAllWindows()"
   ]
  },
  {
   "cell_type": "code",
   "execution_count": null,
   "metadata": {},
   "outputs": [],
   "source": []
  }
 ],
 "metadata": {
  "kernelspec": {
   "display_name": "Python 3",
   "language": "python",
   "name": "python3"
  },
  "language_info": {
   "codemirror_mode": {
    "name": "ipython",
    "version": 3
   },
   "file_extension": ".py",
   "mimetype": "text/x-python",
   "name": "python",
   "nbconvert_exporter": "python",
   "pygments_lexer": "ipython3",
   "version": "3.6.8"
  }
 },
 "nbformat": 4,
 "nbformat_minor": 2
}
