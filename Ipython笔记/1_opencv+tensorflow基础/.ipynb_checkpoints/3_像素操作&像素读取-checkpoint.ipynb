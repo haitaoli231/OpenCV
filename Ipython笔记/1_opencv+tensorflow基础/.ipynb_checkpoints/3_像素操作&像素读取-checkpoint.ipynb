{
 "cells": [
  {
   "cell_type": "markdown",
   "metadata": {},
   "source": [
    "- 颜色通道: RGB, BGR\n",
    "    - RGB有三个颜色通道,分别是R,G,B.\n",
    "    - R表示red, G表示green, B表示blue      \n",
    "    \n",
    "    \n",
    "- 宽高: 图片在水平方向上和竖直方向上有多少个像素点\n",
    "- 像素: 图片上的每一个每一个小方块就是一个像素(点)\n",
    "- 颜色通道RGB: 每一个像素点都可以由RGB三种颜色组成\n",
    "- 颜色深度: 每个颜色通道的颜色深度是 8bit 表明该颜色通道可以表示的颜色范围在0-255之间\n",
    "    - 每一个像素点由RGB三个颜色通道组成, 每一个颜色通道的深度都是8bit\n",
    "    - 因此一个像素点有 256^3 种表示方式, 一个像素的大小是3*8bit\n",
    "\n",
    "\n",
    "- 图片大小: \n",
    "    - 假设一个图片的宽高是640*480,颜色深度是8bit,那么该图片的大小是:\n",
    "    - 640\\*480\\*3\\*8bit=7372800bit=921600bytes=900KB\n",
    "    - 注意: 1byte=8bit  \n",
    "    \n",
    "- 对于png图片而言, 不仅有RGB属性还有一个alpha透明度属性"
   ]
  },
  {
   "cell_type": "code",
   "execution_count": 1,
   "metadata": {},
   "outputs": [],
   "source": [
    "import cv2 as cv\n",
    "img = cv.imread('../sources/wnh.jpg', 1)"
   ]
  },
  {
   "cell_type": "code",
   "execution_count": 2,
   "metadata": {},
   "outputs": [
    {
     "name": "stdout",
     "output_type": "stream",
     "text": [
      "191 185 174\n"
     ]
    }
   ],
   "source": [
    "(b, g, r) = img[100,100] # 找到坐标为[100,100]位置的图片像素点的b,g,r\n",
    "print(b,g,r)"
   ]
  },
  {
   "cell_type": "code",
   "execution_count": 16,
   "metadata": {},
   "outputs": [
    {
     "data": {
      "text/plain": [
       "True"
      ]
     },
     "execution_count": 16,
     "metadata": {},
     "output_type": "execute_result"
    }
   ],
   "source": [
    "cv.imwrite('../sources/wnh_0.jpg', img) # 把原图片保存一个副本"
   ]
  },
  {
   "cell_type": "code",
   "execution_count": null,
   "metadata": {},
   "outputs": [],
   "source": [
    "# 现在有如下要求: 以图片[10, 100]到[110, 100]这两个坐标画一条(b,g,r)为(255,0,0)的直线\n",
    "for i in range(1, 101):\n",
    "    img[10 + i, 100] = (255, 0, 0)\n",
    "cv.imshow('../sources/wnh.jpg', img)\n",
    "cv.waitKey(0)\n",
    "cv.destroyAllWindows()"
   ]
  },
  {
   "cell_type": "code",
   "execution_count": null,
   "metadata": {},
   "outputs": [],
   "source": []
  }
 ],
 "metadata": {
  "kernelspec": {
   "display_name": "Python 3",
   "language": "python",
   "name": "python3"
  },
  "language_info": {
   "codemirror_mode": {
    "name": "ipython",
    "version": 3
   },
   "file_extension": ".py",
   "mimetype": "text/x-python",
   "name": "python",
   "nbconvert_exporter": "python",
   "pygments_lexer": "ipython3",
   "version": "3.6.8"
  }
 },
 "nbformat": 4,
 "nbformat_minor": 2
}
