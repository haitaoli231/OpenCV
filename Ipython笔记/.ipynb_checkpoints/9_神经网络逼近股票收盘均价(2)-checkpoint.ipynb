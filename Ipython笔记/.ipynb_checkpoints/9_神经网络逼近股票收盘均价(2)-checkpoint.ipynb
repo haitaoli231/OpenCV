{
 "cells": [
  {
   "cell_type": "code",
   "execution_count": 6,
   "metadata": {},
   "outputs": [],
   "source": [
    "import tensorflow as tf\n",
    "import numpy as np\n",
    "import matplotlib.pyplot as plt"
   ]
  },
  {
   "cell_type": "code",
   "execution_count": 7,
   "metadata": {},
   "outputs": [
    {
     "name": "stdout",
     "output_type": "stream",
     "text": [
      "[ 1.  2.  3.  4.  5.  6.  7.  8.  9. 10. 11. 12. 13. 14. 15.] (15,)\n"
     ]
    }
   ],
   "source": [
    "# 日期\n",
    "date = np.linspace(1, 15, 15)\n",
    "print(date, date.shape)\n",
    "# 收盘价\n",
    "endPrice = np.array([2511.90,2538.26,2510.68,2591.66,2732.98,2701.69,2701.29,\n",
    "                     2678.67,2726.50,2681.50,2739.17,2715.07,2823.58,2864.90,2919.08])\n",
    "# 开盘价\n",
    "beginPrice = np.array([2438.71,2500.88,2534.95,2512.52,2594.04,2743.26,2697.47,\n",
    "                       2695.24,2678.23,2722.13,2674.93,2744.13,2717.46,2832.73,2877.40])"
   ]
  },
  {
   "cell_type": "markdown",
   "metadata": {},
   "source": [
    "## 神经网络\n",
    "- 输入层 --> 隐藏层 --> 输出层\n",
    "- 日期 --> 隐藏层 --> 股价\n",
    "- A --> B --> C\n",
    "    - A * w1 + b1 = B\n",
    "    - B * w2 + b2 = C\n",
    "    - w1和w2 -- 权重\n",
    "    - b1和b2 -- 偏置\n",
    "    \n",
    "    \n",
    "- A(15x1) * w1(1x10) + b1(1x10) = B(15x10)\n",
    "- B(15x10) * w2(10x1) + b2(15x1) = C(15x1)"
   ]
  },
  {
   "cell_type": "code",
   "execution_count": 12,
   "metadata": {},
   "outputs": [
    {
     "data": {
      "image/png": "[encoded data removed]",
      "text/plain": [
       "<Figure size 432x288 with 1 Axes>"
      ]
     },
     "metadata": {
      "needs_background": "light"
     },
     "output_type": "display_data"
    }
   ],
   "source": [
    "# 创建一个绘图实例\n",
    "plt.figure()\n",
    "# 绘制真实股价图\n",
    "for i in range(0, 15):\n",
    "    dateOne = np.zeros([2])\n",
    "    dateOne[0] = i;\n",
    "    dateOne[1] = i;\n",
    "    priceOne = np.zeros([2])\n",
    "    priceOne[0] = endPrice[i]\n",
    "    priceOne[1] = beginPrice[i]\n",
    "    if endPrice[i] > beginPrice[i]:\n",
    "        plt.plot(dateOne, priceOne, 'r', lw=8)\n",
    "    else:\n",
    "        plt.plot(dateOne, priceOne, 'g', lw=8)\n",
    "\n",
    "\n",
    "# 归一化 日期和价格\n",
    "dateNormal = np.zeros([15, 1])\n",
    "priceNormal = np.zeros([15, 1])\n",
    "for i in range(0, 15):\n",
    "    dateNormal[i, 0] = i/14.0;\n",
    "    priceNormal[i, 0] = endPrice[i]/3000.0;\n",
    "\n",
    "# 定义两个占位符\n",
    "x = tf.placeholder(tf.float32, [None, 1]) # 输入层: A 日期\n",
    "y = tf.placeholder(tf.float32, [None, 1]) # 真实股价\n",
    "\n",
    "# B\n",
    "w1 = tf.Variable(tf.random_uniform([1, 10], 0, 1)) # 权重w1\n",
    "b1 = tf.Variable(tf.zeros([1, 10])) # 偏置b1\n",
    "wb1 = tf.matmul(x, w1) + b1 # 隐藏层B\n",
    "layer1 = tf.nn.relu(wb1) # 激励函数\n",
    "\n",
    "# C\n",
    "w2 = tf.Variable(tf.random_uniform([10, 1], 0, 1)) # 权重w2\n",
    "b2 = tf.Variable(tf.zeros([15, 1])) # 偏置b2\n",
    "wb2 = tf.matmul(layer1, w2) + b2 # 输出层C\n",
    "layer2 = tf.nn.relu(wb2) # 激励函数\n",
    "\n",
    "# 方差\n",
    "loss = tf.reduce_mean(tf.square(y-layer2)) # y是真实值,layer2是计算值\n",
    "\n",
    "# 训练: 梯度下降法\n",
    "train_step = tf.train.GradientDescentOptimizer(0.1).minimize(loss)\n",
    "\n",
    "# 会话中执行operations\n",
    "with tf.Session() as sess:\n",
    "    sess.run(tf.global_variables_initializer()) # 初始化所有变量\n",
    "    \n",
    "    for i in range(0, 10000): # 训练10000次\n",
    "        sess.run(train_step, feed_dict={x:dateNormal, y:priceNormal})\n",
    "    \n",
    "    # layer2就是我们训练出来的模型\n",
    "    # 把日期喂给layer2,得到股价pred\n",
    "    pred = sess.run(layer2, feed_dict={x:dateNormal})\n",
    "    predPrice = np.zeros([15, 1])\n",
    "    for i in range(0, 15):\n",
    "        predPrice[i, 0] = (pred * 3000)[i, 0]\n",
    "    plt.plot(date, predPrice, 'b', lw=1) # 绘制折线图\n",
    "plt.show()"
   ]
  }
 ],
 "metadata": {
  "kernelspec": {
   "display_name": "Python 3",
   "language": "python",
   "name": "python3"
  },
  "language_info": {
   "codemirror_mode": {
    "name": "ipython",
    "version": 3
   },
   "file_extension": ".py",
   "mimetype": "text/x-python",
   "name": "python",
   "nbconvert_exporter": "python",
   "pygments_lexer": "ipython3",
   "version": "3.6.8"
  }
 },
 "nbformat": 4,
 "nbformat_minor": 2
}
