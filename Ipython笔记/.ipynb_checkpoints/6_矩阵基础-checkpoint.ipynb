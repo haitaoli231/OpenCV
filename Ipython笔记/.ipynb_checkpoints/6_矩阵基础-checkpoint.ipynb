{
 "cells": [
  {
   "cell_type": "markdown",
   "metadata": {},
   "source": [
    "# 关于feed_dict"
   ]
  },
  {
   "cell_type": "code",
   "execution_count": 2,
   "metadata": {},
   "outputs": [
    {
     "name": "stdout",
     "output_type": "stream",
     "text": [
      "8.0\n",
      "end!\n"
     ]
    }
   ],
   "source": [
    "import tensorflow as tf\n",
    "\n",
    "data1 = tf.placeholder(tf.float32)\n",
    "data2 = tf.placeholder(tf.float32)\n",
    "\n",
    "dataAdd = tf.add(data1,  data2)\n",
    "\n",
    "with tf.Session() as sess:\n",
    "    print(sess.run(dataAdd, feed_dict={data1: 6, data2:2}))\n",
    "\n",
    "print('end!')"
   ]
  },
  {
   "cell_type": "markdown",
   "metadata": {},
   "source": [
    "# 矩阵的组成\n",
    "- 什么是矩阵?\n",
    "    - 类比法: 可以把矩阵看作是一个数组. 若矩阵是M行N列,那么数组中就会嵌套有M个子数组,每一个子数组中有N个数据. 子数组与子数组之间,数据与数据之间均用逗号隔开.\n",
    "    \n",
    "    \n",
    "- 如何表示矩阵的行和列?\n",
    "    - 查看矩阵data第0行的所有数据: data[0]\n",
    "    - 查看矩阵data第0列的所有数据: data[:,0]\n",
    "\n",
    "\n",
    "- 如何表示矩阵中的每一个数据?\n",
    "    - 查看矩阵data第0行第0列对应的数据: data[0,0]\n",
    "    - 查看矩阵data第1行第1列对应的数据: data[1,1]"
   ]
  },
  {
   "cell_type": "code",
   "execution_count": 7,
   "metadata": {},
   "outputs": [
    {
     "name": "stdout",
     "output_type": "stream",
     "text": [
      "(3, 2)\n",
      "[[1 2]\n",
      " [3 4]\n",
      " [5 6]]\n",
      "[1 2]\n",
      "[1 3 5]\n",
      "4\n"
     ]
    }
   ],
   "source": [
    "import tensorflow as tf\n",
    "\n",
    "# 一行两列\n",
    "data1 = tf.constant([[6, 6]])\n",
    "# 两行一列\n",
    "data2 = tf.constant([[2],\n",
    "                     [2]])\n",
    "# 一行两列\n",
    "data3 = tf.constant([[3, 3]])\n",
    "# 三行两列\n",
    "data4 = tf.constant([[1, 2],\n",
    "                     [3, 4],\n",
    "                     [5, 6]])\n",
    "\n",
    "print(data4.shape) # shape表示维度\n",
    "\n",
    "with tf.Session() as sess:\n",
    "    print(sess.run(data4)) # 矩阵data4\n",
    "    print(sess.run(data4[0])) # data4的第0行\n",
    "    print(sess.run(data4[:,0])) # data4的第0列\n",
    "    print(sess.run(data4[1,1])) # 矩阵data4中第1行第1列的数据"
   ]
  },
  {
   "cell_type": "markdown",
   "metadata": {},
   "source": [
    "# 矩阵的运算"
   ]
  },
  {
   "cell_type": "code",
   "execution_count": 11,
   "metadata": {},
   "outputs": [
    {
     "name": "stdout",
     "output_type": "stream",
     "text": [
      "[[9 9]]\n",
      "[[24]]\n",
      "[[12 12]\n",
      " [12 12]]\n",
      "[array([[9, 9]]), array([[24]])]\n"
     ]
    }
   ],
   "source": [
    "import tensorflow as tf\n",
    "\n",
    "# 1 * 2\n",
    "data1 = tf.constant([[6,6]])\n",
    "# 2 * 1\n",
    "data2 = tf.constant([[2],\n",
    "                     [2]])\n",
    "# 1 * 2\n",
    "data3 = tf.constant([[3, 3]])\n",
    "# 3 * 2\n",
    "data4 = tf.constant([[1, 2],\n",
    "                     [3, 4],\n",
    "                     [5, 6]])\n",
    "\n",
    "matAdd = tf.add(data1, data3) # 两个维度相同的矩阵相加: 1X2 + 1X2\n",
    "matMul = tf.matmul(data1, data2) # 维度为MN和NM的两个矩阵相乘: 1X2 * 2X1\n",
    "matMul2 = tf.multiply(data1, data2) # 普通的乘法\n",
    "\n",
    "with tf.Session() as sess:\n",
    "    print(sess.run(matAdd))\n",
    "    print(sess.run(matMul))\n",
    "    print(sess.run(matMul2))\n",
    "    \n",
    "    print(sess.run([matAdd, matMul])) # 一个会话同时执行多个计算图"
   ]
  },
  {
   "cell_type": "markdown",
   "metadata": {},
   "source": [
    "# 矩阵的创建"
   ]
  },
  {
   "cell_type": "code",
   "execution_count": 31,
   "metadata": {},
   "outputs": [
    {
     "name": "stdout",
     "output_type": "stream",
     "text": [
      "[[0. 0. 0.]\n",
      " [0. 0. 0.]]\n",
      "\n",
      "[[1. 1. 1.]\n",
      " [1. 1. 1.]]\n",
      "\n",
      "[[99 99 99]\n",
      " [99 99 99]]\n",
      "\n"
     ]
    }
   ],
   "source": [
    "import tensorflow as tf\n",
    "\n",
    "# 自定义矩阵\n",
    "mat0 = tf.constant([[1, 2, 3],[4, 5, 6]])\n",
    "# 全0矩阵\n",
    "mat1 = tf.zeros([2, 3])\n",
    "# 全1矩阵\n",
    "mat2 = tf.ones([2, 3])\n",
    "# 填充矩阵\n",
    "mat3 = tf.fill([2, 3], 99)\n",
    "\n",
    "with tf.Session() as sess:\n",
    "    #print(sess.run(mat0))\n",
    "    print(sess.run(mat1), end='\\n\\n')\n",
    "    print(sess.run(mat2), end='\\n\\n')\n",
    "    print(sess.run(mat3), end='\\n\\n')"
   ]
  },
  {
   "cell_type": "code",
   "execution_count": 33,
   "metadata": {},
   "outputs": [
    {
     "name": "stdout",
     "output_type": "stream",
     "text": [
      "[[0 0 0]\n",
      " [0 0 0]]\n",
      "\n",
      "[0.        0.2       0.4       0.6       0.8       1.        1.2\n",
      " 1.4       1.6       1.8000001 2.       ]\n",
      "\n",
      "[[ 1.4726727  -0.12585771  1.3514347 ]\n",
      " [ 0.89253664 -0.7657509  -0.41237807]]\n",
      "\n"
     ]
    }
   ],
   "source": [
    "import tensorflow as tf\n",
    "\n",
    "mat0 = tf.constant([[1, 2, 3],[4, 5, 6]])\n",
    "# 维度与mat0相同的用以0去填充的 矩阵\n",
    "mat1 = tf.zeros_like(mat0)\n",
    "# 以0.0和2.0为端点,将之分成10等分\n",
    "mat2 = tf.linspace(0.0, 2.0, 11)\n",
    "# 随机数矩阵: 生成一个维度为[2,3],内部元素值在[-1, 2]范围内的一个矩阵\n",
    "mat3 = tf.random_uniform([2, 3], -1, 2)\n",
    "\n",
    "with tf.Session() as sess:\n",
    "    print(sess.run(mat1), end='\\n\\n')\n",
    "    print(sess.run(mat2), end='\\n\\n')\n",
    "    print(sess.run(mat3), end='\\n\\n')"
   ]
  }
 ],
 "metadata": {
  "kernelspec": {
   "display_name": "Python 3",
   "language": "python",
   "name": "python3"
  },
  "language_info": {
   "codemirror_mode": {
    "name": "ipython",
    "version": 3
   },
   "file_extension": ".py",
   "mimetype": "text/x-python",
   "name": "python",
   "nbconvert_exporter": "python",
   "pygments_lexer": "ipython3",
   "version": "3.6.8"
  }
 },
 "nbformat": 4,
 "nbformat_minor": 2
}
