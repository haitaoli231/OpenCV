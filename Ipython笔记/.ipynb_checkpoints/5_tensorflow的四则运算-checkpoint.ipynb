{
 "cells": [
  {
   "cell_type": "markdown",
   "metadata": {},
   "source": [
    "# 常量之间的四则运算"
   ]
  },
  {
   "cell_type": "code",
   "execution_count": 2,
   "metadata": {},
   "outputs": [],
   "source": [
    "import tensorflow as tf"
   ]
  },
  {
   "cell_type": "code",
   "execution_count": 10,
   "metadata": {},
   "outputs": [
    {
     "name": "stdout",
     "output_type": "stream",
     "text": [
      "8\n",
      "4\n",
      "12\n",
      "3.0\n",
      "end!\n"
     ]
    }
   ],
   "source": [
    "# 创建tensor\n",
    "data1 = tf.constant(6) # 使用constant创建常量\n",
    "data2 = tf.constant(2)\n",
    "\n",
    "# 创建op\n",
    "dataAdd = tf.add(data1, data2) # 加\n",
    "dataSub = tf.subtract(data1, data2) # 减\n",
    "dataMul = tf.multiply(data1, data2) # 乘\n",
    "dataDiv = tf.divide(data1, data2) # 除\n",
    "\n",
    "# 创建Session\n",
    "with tf.Session() as sess:\n",
    "    # 在会话中执行计算图\n",
    "    print(sess.run(dataAdd))\n",
    "    print(sess.run(dataSub))\n",
    "    print(sess.run(dataMul))\n",
    "    print(sess.run(dataDiv))\n",
    "print('end!')"
   ]
  },
  {
   "cell_type": "markdown",
   "metadata": {},
   "source": [
    "# 常量与变量之间的四则运算"
   ]
  },
  {
   "cell_type": "code",
   "execution_count": 12,
   "metadata": {},
   "outputs": [
    {
     "name": "stdout",
     "output_type": "stream",
     "text": [
      "8\n",
      "4\n",
      "12\n",
      "3.0\n",
      "end!\n"
     ]
    }
   ],
   "source": [
    "# 创建tensor\n",
    "data1 = tf.constant(6) # 使用constant创建常量\n",
    "data2 = tf.Variable(2) # 使用Variable创建变量\n",
    "\n",
    "# 创建op\n",
    "dataAdd = tf.add(data1, data2) # 加\n",
    "dataSub = tf.subtract(data1, data2) # 减\n",
    "dataMul = tf.multiply(data1, data2) # 乘\n",
    "dataDiv = tf.divide(data1, data2) # 除\n",
    "\n",
    "# 所有变量都必须初始化\n",
    "init = tf.global_variables_initializer()\n",
    "# 创建Session\n",
    "with tf.Session() as sess:\n",
    "    # 在会话中执行计算图\n",
    "    sess.run(init) # 变量初始化后也要放在会话中执行\n",
    "    print(sess.run(dataAdd))\n",
    "    print(sess.run(dataSub))\n",
    "    print(sess.run(dataMul))\n",
    "    print(sess.run(dataDiv))\n",
    "print('end!')"
   ]
  },
  {
   "cell_type": "markdown",
   "metadata": {},
   "source": [
    "# tensor.eval()方法\n",
    "- 四则运算第一种方法:\n",
    "```python\n",
    "sess.run()\n",
    "```\n",
    "- 四则运算第二种方法:\n",
    "```python\n",
    "dataAdd = tf.add(data1, data2)\n",
    "dataCopy = tf.assign(data2, dataAdd)\n",
    "...\n",
    "dataCopy.eval()\n",
    "tf.get_default_session().run(dataCopy)\n",
    "# dataCopy.eval()方法等同于tf.get_default_session().run(dataCopy)\n",
    "```"
   ]
  },
  {
   "cell_type": "code",
   "execution_count": 16,
   "metadata": {},
   "outputs": [
    {
     "name": "stdout",
     "output_type": "stream",
     "text": [
      "8\n",
      "4\n",
      "12\n",
      "3.0\n",
      "sess.run(dataCopy) 8\n",
      "dataCopy.eval() 14\n",
      "tf.get_default_session() 20\n",
      "end!\n"
     ]
    }
   ],
   "source": [
    "import tensorflow as tf\n",
    "\n",
    "# 创建tensor\n",
    "data1 = tf.constant(6) # 创建一个常量\n",
    "data2 = tf.Variable(2) # 创建一个变量\n",
    "\n",
    "# 创建op\n",
    "dataAdd = tf.add(data1, data2) # data1 + data2\n",
    "dataCopy = tf.assign(data2, dataAdd) # 这个op表示: 把dataAdd赋值给data2, 即data2 = data2 + data1\n",
    "dataSub = tf.subtract(data1, data2) # data1 - data2\n",
    "dataMul = tf.multiply(data1, data2) # data1 * data2\n",
    "dataDiv = tf.divide(data1, data2) # data1 / data2\n",
    "\n",
    "# 初始化变量,这一步也是一个op\n",
    "init = tf.global_variables_initializer()\n",
    "\n",
    "# 使用session会话\n",
    "with tf.Session() as sess:\n",
    "    sess.run(init)\n",
    "    print(sess.run(dataAdd))\n",
    "    print(sess.run(dataSub))\n",
    "    print(sess.run(dataMul))\n",
    "    print(sess.run(dataDiv))\n",
    "    print('sess.run(dataCopy)', sess.run(dataCopy))\n",
    "    print('dataCopy.eval()', dataCopy.eval())\n",
    "    print('tf.get_default_session()', tf.get_default_session().run(dataCopy))\n",
    "print('end!')"
   ]
  }
 ],
 "metadata": {
  "kernelspec": {
   "display_name": "Python 3",
   "language": "python",
   "name": "python3"
  },
  "language_info": {
   "codemirror_mode": {
    "name": "ipython",
    "version": 3
   },
   "file_extension": ".py",
   "mimetype": "text/x-python",
   "name": "python",
   "nbconvert_exporter": "python",
   "pygments_lexer": "ipython3",
   "version": "3.6.8"
  }
 },
 "nbformat": 4,
 "nbformat_minor": 2
}
