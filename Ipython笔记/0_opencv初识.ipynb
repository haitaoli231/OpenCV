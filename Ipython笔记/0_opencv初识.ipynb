{
 "cells": [
  {
   "cell_type": "markdown",
   "metadata": {},
   "source": [
    "参考资料1: [Python环境搭建之OpenCV](https://www.cnblogs.com/lely/p/9197985.html)  \n",
    "参考资料2: [OpenCV 教程](http://www.opencv.org.cn/opencvdoc/2.3.2/html/doc/tutorials/tutorials.html)  \n",
    "参考资料3: [opencv+python](https://www.cnblogs.com/lely/p/9197985.html)"
   ]
  },
  {
   "cell_type": "markdown",
   "metadata": {},
   "source": [
    "# 一.OpenCV环境搭建(Python)\n",
    "```python\n",
    "pip install --upgrade setuptools\n",
    "pip install numpy Matplotlib\n",
    "pip install opencv-python\n",
    "```\n",
    "\n",
    "- opencv环境已经整好，就是这么简单。只需要numpy、Matplotlib、opencv-python三个包，都不大很快就可以下好，如果下载中间出现error或wrong，重新输入命令即可。\n",
    "- 如果多次下载失败，可以从 <http://www.lfd.uci.edu/~gohlke/pythonlibs/> 直接下载whl包安装，安装whl包依然使用pip: \n",
    "```python\n",
    "pip install 包的位置(如：C:\\download\\xxx.whl)\n",
    "```"
   ]
  },
  {
   "cell_type": "markdown",
   "metadata": {},
   "source": [
    "- 图像分类:\n",
    "    - 二值图像:\n",
    "        - 0/1\n",
    "    - 灰度图像: \n",
    "        - 纯黑\n",
    "        - 0-255\n",
    "        - 纯白\n",
    "    - RGB图像(RGB三原色 )\n",
    "        - R0-255|G0-255|B0-255\n",
    "- 注意: OpenCV中表示彩色图像顺序是BGR,与一般顺序RGB不一样,可以转换成RGB再进行处理"
   ]
  },
  {
   "cell_type": "code",
   "execution_count": null,
   "metadata": {},
   "outputs": [],
   "source": [
    "'''\n",
    "第一个测试脚本\n",
    "'''\n",
    "\n",
    "# 1. 导入cv模块\n",
    "import cv2 as cv\n",
    "\n",
    "# 2. 读取图像,支持 bmp, jpg, png, tiff 等常用格式\n",
    "img = cv.imread('../sources/dog.jpg')\n",
    "\n",
    "# 3. 创建窗口并显示图像\n",
    "cv.namedWindow('Image', cv.WINDOW_AUTOSIZE) # 创建一个窗口,窗口名为'Image'\n",
    "cv.imshow('Image', img) # 显示图像\n",
    "cv.waitKey(0) # 不要关闭我创建的窗口,直到我手动关闭它\n",
    "\n",
    "# 4. 释放(销毁)所有窗口,避免跨语言造成的不必要的内存泄露\n",
    "cv.destroyAllWindows()"
   ]
  },
  {
   "cell_type": "code",
   "execution_count": null,
   "metadata": {},
   "outputs": [],
   "source": []
  }
 ],
 "metadata": {
  "kernelspec": {
   "display_name": "Python 3",
   "language": "python",
   "name": "python3"
  },
  "language_info": {
   "codemirror_mode": {
    "name": "ipython",
    "version": 3
   },
   "file_extension": ".py",
   "mimetype": "text/x-python",
   "name": "python",
   "nbconvert_exporter": "python",
   "pygments_lexer": "ipython3",
   "version": "3.6.8"
  }
 },
 "nbformat": 4,
 "nbformat_minor": 2
}
